{
 "cells": [
  {
   "cell_type": "markdown",
   "metadata": {},
   "source": [
    "**ECOM90025 Assignment 2**"
   ]
  },
  {
   "cell_type": "code",
   "execution_count": 166,
   "metadata": {},
   "outputs": [],
   "source": [
    "import numpy as np\n",
    "import pandas as pd\n",
    "from sklearn.model_selection import train_test_split, GridSearchCV, cross_val_score\n",
    "from sklearn.preprocessing import StandardScaler, PolynomialFeatures\n",
    "from sklearn.decomposition import PCA\n",
    "from sklearn.linear_model import ElasticNet\n",
    "from sklearn.svm import SVR\n",
    "from sklearn.metrics import mean_squared_error, r2_score\n",
    "import matplotlib.pyplot as plt"
   ]
  },
  {
   "cell_type": "code",
   "execution_count": 167,
   "metadata": {},
   "outputs": [],
   "source": [
    "url_train = \"https://raw.githubusercontent.com/kkevinliu01/ECOM90025-A2/main/train.csv\"\n",
    "url_test = \"https://raw.githubusercontent.com/kkevinliu01/ECOM90025-A2/main/test.csv\"\n",
    "url_submission = \"https://raw.githubusercontent.com/kkevinliu01/ECOM90025-A2/main/sample_submission.csv\""
   ]
  },
  {
   "cell_type": "markdown",
   "metadata": {},
   "source": [
    "Functions "
   ]
  },
  {
   "cell_type": "code",
   "execution_count": null,
   "metadata": {},
   "outputs": [],
   "source": []
  },
  {
   "cell_type": "code",
   "execution_count": null,
   "metadata": {},
   "outputs": [],
   "source": []
  },
  {
   "cell_type": "code",
   "execution_count": null,
   "metadata": {},
   "outputs": [],
   "source": []
  },
  {
   "cell_type": "markdown",
   "metadata": {},
   "source": [
    "**Part 1**\n",
    "\n",
    "Read the training sample to a Pandas dataframe."
   ]
  },
  {
   "cell_type": "code",
   "execution_count": 168,
   "metadata": {},
   "outputs": [],
   "source": [
    "df_train = pd.read_csv(url_train, index_col=0)"
   ]
  },
  {
   "cell_type": "code",
   "execution_count": 169,
   "metadata": {},
   "outputs": [
    {
     "data": {
      "text/html": [
       "<div>\n",
       "<style scoped>\n",
       "    .dataframe tbody tr th:only-of-type {\n",
       "        vertical-align: middle;\n",
       "    }\n",
       "\n",
       "    .dataframe tbody tr th {\n",
       "        vertical-align: top;\n",
       "    }\n",
       "\n",
       "    .dataframe thead th {\n",
       "        text-align: right;\n",
       "    }\n",
       "</style>\n",
       "<table border=\"1\" class=\"dataframe\">\n",
       "  <thead>\n",
       "    <tr style=\"text-align: right;\">\n",
       "      <th></th>\n",
       "      <th>Y</th>\n",
       "      <th>X1</th>\n",
       "      <th>X2</th>\n",
       "      <th>X3</th>\n",
       "      <th>X4</th>\n",
       "      <th>X5</th>\n",
       "      <th>X6</th>\n",
       "      <th>X7</th>\n",
       "      <th>X8</th>\n",
       "      <th>X9</th>\n",
       "      <th>...</th>\n",
       "      <th>X31</th>\n",
       "      <th>X32</th>\n",
       "      <th>X33</th>\n",
       "      <th>X34</th>\n",
       "      <th>X35</th>\n",
       "      <th>X36</th>\n",
       "      <th>X37</th>\n",
       "      <th>X38</th>\n",
       "      <th>X39</th>\n",
       "      <th>X40</th>\n",
       "    </tr>\n",
       "    <tr>\n",
       "      <th>ID</th>\n",
       "      <th></th>\n",
       "      <th></th>\n",
       "      <th></th>\n",
       "      <th></th>\n",
       "      <th></th>\n",
       "      <th></th>\n",
       "      <th></th>\n",
       "      <th></th>\n",
       "      <th></th>\n",
       "      <th></th>\n",
       "      <th></th>\n",
       "      <th></th>\n",
       "      <th></th>\n",
       "      <th></th>\n",
       "      <th></th>\n",
       "      <th></th>\n",
       "      <th></th>\n",
       "      <th></th>\n",
       "      <th></th>\n",
       "      <th></th>\n",
       "      <th></th>\n",
       "    </tr>\n",
       "  </thead>\n",
       "  <tbody>\n",
       "    <tr>\n",
       "      <th>0</th>\n",
       "      <td>0.532053</td>\n",
       "      <td>-0.148821</td>\n",
       "      <td>0.549597</td>\n",
       "      <td>0.272469</td>\n",
       "      <td>-0.901925</td>\n",
       "      <td>1.772201</td>\n",
       "      <td>-0.349480</td>\n",
       "      <td>-0.343701</td>\n",
       "      <td>0.190422</td>\n",
       "      <td>-0.834592</td>\n",
       "      <td>...</td>\n",
       "      <td>0.164693</td>\n",
       "      <td>-0.890457</td>\n",
       "      <td>0.781842</td>\n",
       "      <td>1.123592</td>\n",
       "      <td>-0.275561</td>\n",
       "      <td>-1.056807</td>\n",
       "      <td>0.299572</td>\n",
       "      <td>-1.639389</td>\n",
       "      <td>-1.517434</td>\n",
       "      <td>1.413109</td>\n",
       "    </tr>\n",
       "    <tr>\n",
       "      <th>1</th>\n",
       "      <td>5.184914</td>\n",
       "      <td>2.014094</td>\n",
       "      <td>-0.093027</td>\n",
       "      <td>-0.362052</td>\n",
       "      <td>0.456102</td>\n",
       "      <td>1.061241</td>\n",
       "      <td>-1.067338</td>\n",
       "      <td>0.643531</td>\n",
       "      <td>0.349825</td>\n",
       "      <td>-1.280970</td>\n",
       "      <td>...</td>\n",
       "      <td>-0.761800</td>\n",
       "      <td>-0.274411</td>\n",
       "      <td>0.673035</td>\n",
       "      <td>-0.631399</td>\n",
       "      <td>1.079935</td>\n",
       "      <td>0.839400</td>\n",
       "      <td>-0.042490</td>\n",
       "      <td>-0.588538</td>\n",
       "      <td>-0.456224</td>\n",
       "      <td>-2.120965</td>\n",
       "    </tr>\n",
       "    <tr>\n",
       "      <th>2</th>\n",
       "      <td>-1.432569</td>\n",
       "      <td>0.838779</td>\n",
       "      <td>-2.688285</td>\n",
       "      <td>-1.379352</td>\n",
       "      <td>-1.053576</td>\n",
       "      <td>-0.150720</td>\n",
       "      <td>1.079090</td>\n",
       "      <td>0.300199</td>\n",
       "      <td>0.234107</td>\n",
       "      <td>0.223405</td>\n",
       "      <td>...</td>\n",
       "      <td>0.299277</td>\n",
       "      <td>-0.186497</td>\n",
       "      <td>-1.439135</td>\n",
       "      <td>-0.744982</td>\n",
       "      <td>-0.577295</td>\n",
       "      <td>0.629026</td>\n",
       "      <td>0.349651</td>\n",
       "      <td>-0.014912</td>\n",
       "      <td>-0.007519</td>\n",
       "      <td>0.158457</td>\n",
       "    </tr>\n",
       "    <tr>\n",
       "      <th>3</th>\n",
       "      <td>5.187497</td>\n",
       "      <td>0.830986</td>\n",
       "      <td>-0.887702</td>\n",
       "      <td>1.387495</td>\n",
       "      <td>-0.228950</td>\n",
       "      <td>-1.753283</td>\n",
       "      <td>0.055467</td>\n",
       "      <td>1.159491</td>\n",
       "      <td>-2.459410</td>\n",
       "      <td>-1.363846</td>\n",
       "      <td>...</td>\n",
       "      <td>-0.470508</td>\n",
       "      <td>-0.801736</td>\n",
       "      <td>-0.325791</td>\n",
       "      <td>-0.757732</td>\n",
       "      <td>0.318284</td>\n",
       "      <td>-1.736215</td>\n",
       "      <td>-1.505948</td>\n",
       "      <td>0.207231</td>\n",
       "      <td>0.897713</td>\n",
       "      <td>0.664534</td>\n",
       "    </tr>\n",
       "    <tr>\n",
       "      <th>4</th>\n",
       "      <td>7.141232</td>\n",
       "      <td>1.209247</td>\n",
       "      <td>0.614855</td>\n",
       "      <td>-0.999241</td>\n",
       "      <td>-0.170428</td>\n",
       "      <td>-0.517563</td>\n",
       "      <td>-0.391593</td>\n",
       "      <td>-1.183876</td>\n",
       "      <td>0.907440</td>\n",
       "      <td>-0.287905</td>\n",
       "      <td>...</td>\n",
       "      <td>0.492473</td>\n",
       "      <td>-0.276980</td>\n",
       "      <td>-0.419119</td>\n",
       "      <td>0.025664</td>\n",
       "      <td>-0.165303</td>\n",
       "      <td>0.623124</td>\n",
       "      <td>1.151711</td>\n",
       "      <td>-0.622249</td>\n",
       "      <td>-0.873814</td>\n",
       "      <td>-1.110714</td>\n",
       "    </tr>\n",
       "  </tbody>\n",
       "</table>\n",
       "<p>5 rows × 41 columns</p>\n",
       "</div>"
      ],
      "text/plain": [
       "           Y        X1        X2        X3        X4        X5        X6  \\\n",
       "ID                                                                         \n",
       "0   0.532053 -0.148821  0.549597  0.272469 -0.901925  1.772201 -0.349480   \n",
       "1   5.184914  2.014094 -0.093027 -0.362052  0.456102  1.061241 -1.067338   \n",
       "2  -1.432569  0.838779 -2.688285 -1.379352 -1.053576 -0.150720  1.079090   \n",
       "3   5.187497  0.830986 -0.887702  1.387495 -0.228950 -1.753283  0.055467   \n",
       "4   7.141232  1.209247  0.614855 -0.999241 -0.170428 -0.517563 -0.391593   \n",
       "\n",
       "          X7        X8        X9  ...       X31       X32       X33       X34  \\\n",
       "ID                                ...                                           \n",
       "0  -0.343701  0.190422 -0.834592  ...  0.164693 -0.890457  0.781842  1.123592   \n",
       "1   0.643531  0.349825 -1.280970  ... -0.761800 -0.274411  0.673035 -0.631399   \n",
       "2   0.300199  0.234107  0.223405  ...  0.299277 -0.186497 -1.439135 -0.744982   \n",
       "3   1.159491 -2.459410 -1.363846  ... -0.470508 -0.801736 -0.325791 -0.757732   \n",
       "4  -1.183876  0.907440 -0.287905  ...  0.492473 -0.276980 -0.419119  0.025664   \n",
       "\n",
       "         X35       X36       X37       X38       X39       X40  \n",
       "ID                                                              \n",
       "0  -0.275561 -1.056807  0.299572 -1.639389 -1.517434  1.413109  \n",
       "1   1.079935  0.839400 -0.042490 -0.588538 -0.456224 -2.120965  \n",
       "2  -0.577295  0.629026  0.349651 -0.014912 -0.007519  0.158457  \n",
       "3   0.318284 -1.736215 -1.505948  0.207231  0.897713  0.664534  \n",
       "4  -0.165303  0.623124  1.151711 -0.622249 -0.873814 -1.110714  \n",
       "\n",
       "[5 rows x 41 columns]"
      ]
     },
     "execution_count": 169,
     "metadata": {},
     "output_type": "execute_result"
    }
   ],
   "source": [
    "df_train.head()"
   ]
  },
  {
   "cell_type": "code",
   "execution_count": 170,
   "metadata": {},
   "outputs": [],
   "source": [
    "# Separate features and target variable\n",
    "X = df_train.drop(columns=['Y'])\n",
    "y = df_train['Y']"
   ]
  },
  {
   "cell_type": "markdown",
   "metadata": {},
   "source": [
    "Default"
   ]
  },
  {
   "cell_type": "code",
   "execution_count": 171,
   "metadata": {},
   "outputs": [
    {
     "name": "stdout",
     "output_type": "stream",
     "text": [
      "The dimension of X_train is (980, 40)\n",
      "The dimension of X_test is (420, 40)\n"
     ]
    }
   ],
   "source": [
    "# Split data into training and testing sets\n",
    "X_train, X_test, y_train, y_test = train_test_split(X, y, test_size = 0.3, random_state= 2001)\n",
    "\n",
    "print(\"The dimension of X_train is {}\".format(X_train.shape))\n",
    "print(\"The dimension of X_test is {}\".format(X_test.shape))"
   ]
  },
  {
   "cell_type": "code",
   "execution_count": 172,
   "metadata": {},
   "outputs": [],
   "source": [
    "# 1. Preprocessing: Scaling the data\n",
    "poly = PolynomialFeatures(degree=4, include_bias=False)\n",
    "X_poly_train = poly.fit_transform(X_train)\n",
    "X_poly_test = poly.fit_transform(X_test)\n",
    "scaler = StandardScaler()\n",
    "X_train_scaled = scaler.fit_transform(X_poly_train)\n",
    "X_test_scaled = scaler.fit_transform(X_poly_test)"
   ]
  },
  {
   "cell_type": "code",
   "execution_count": 173,
   "metadata": {},
   "outputs": [],
   "source": [
    "# # 2. Dimensionality Reduction: Applying PCA\n",
    "# pca = PCA(n_components=20)\n",
    "# X_train_pca = pca.fit_transform(X_train_scaled)\n",
    "# X_test_pca = pca.transform(X_test_scaled)"
   ]
  },
  {
   "cell_type": "code",
   "execution_count": 174,
   "metadata": {},
   "outputs": [],
   "source": [
    "X_train_pca = X_train_scaled\n",
    "X_test_pca = X_test_scaled"
   ]
  },
  {
   "cell_type": "code",
   "execution_count": 175,
   "metadata": {},
   "outputs": [
    {
     "data": {
      "text/plain": [
       "GridSearchCV(cv=5, estimator=ElasticNet(),\n",
       "             param_grid={'alpha': [0.1, 0.2, 0.3, 0.4, 0.5, 0.6, 0.7, 0.8, 0.9,\n",
       "                                   1.0, 10.0],\n",
       "                         'l1_ratio': [0.1, 0.2, 0.3, 0.4, 0.5, 0.6, 0.7, 0.8,\n",
       "                                      0.9, 1.0]},\n",
       "             scoring='neg_mean_squared_error')"
      ]
     },
     "execution_count": 175,
     "metadata": {},
     "output_type": "execute_result"
    }
   ],
   "source": [
    "# 3. Model Training and Hyperparameter Tuning\n",
    "\n",
    "# Elastic Net\n",
    "elastic_net = ElasticNet()\n",
    "elastic_net_params = {\n",
    "    'alpha': [0.1, 0.2, 0.3, 0.4, 0.5, 0.6, 0.7, 0.8, 0.9, 1.0, 10.0],\n",
    "    'l1_ratio': [0.1, 0.2, 0.3, 0.4, 0.5, 0.6, 0.7, 0.8, 0.9, 1.0]\n",
    "}\n",
    "grid_elastic_net = GridSearchCV(elastic_net, elastic_net_params, cv=5, scoring='neg_mean_squared_error')\n",
    "grid_elastic_net.fit(X_train_pca, y_train)"
   ]
  },
  {
   "cell_type": "code",
   "execution_count": 176,
   "metadata": {},
   "outputs": [],
   "source": [
    "# # Support Vector Machine\n",
    "# svm = SVR()\n",
    "# svm_params = {\n",
    "#     'C': [0.1, 1, 10, 100],\n",
    "#     'epsilon': [0.01, 0.1, 0.2],\n",
    "#     'kernel': ['linear', 'rbf']\n",
    "# }\n",
    "# grid_svm = GridSearchCV(svm, svm_params, cv=5, scoring='neg_mean_squared_error')\n",
    "# grid_svm.fit(X_train_pca, y_train)"
   ]
  },
  {
   "cell_type": "code",
   "execution_count": 177,
   "metadata": {},
   "outputs": [],
   "source": [
    "# 4. Model Evaluation: Cross-Validation and Performance Comparison\n",
    "models = {\n",
    "    'Elastic Net': grid_elastic_net.best_estimator_,\n",
    "    # 'Support Vector Machine': grid_svm.best_estimator_ß\n",
    "}"
   ]
  },
  {
   "cell_type": "code",
   "execution_count": 178,
   "metadata": {},
   "outputs": [
    {
     "name": "stdout",
     "output_type": "stream",
     "text": [
      "Model: Elastic Net\n",
      "Cross-Validation RMSE: 2.4846 ± 0.2070\n",
      "Test RMSE: 2.5217\n",
      "Test R^2: 0.6293\n",
      "\n"
     ]
    }
   ],
   "source": [
    "for name, model in models.items():\n",
    "    # Cross-validation\n",
    "    cv_scores = cross_val_score(model, X_train_pca, y_train, cv=5, scoring='neg_mean_squared_error')\n",
    "    cv_rmse = np.sqrt(-cv_scores)\n",
    "    \n",
    "    # Performance on the test set\n",
    "    y_pred = model.predict(X_test_pca)\n",
    "    test_rmse = np.sqrt(mean_squared_error(y_test, y_pred))\n",
    "    test_r2 = r2_score(y_test, y_pred)\n",
    "    \n",
    "    print(f\"Model: {name}\")\n",
    "    print(f\"Cross-Validation RMSE: {cv_rmse.mean():.4f} ± {cv_rmse.std():.4f}\")\n",
    "    print(f\"Test RMSE: {test_rmse:.4f}\")\n",
    "    print(f\"Test R^2: {test_r2:.4f}\\n\")"
   ]
  },
  {
   "cell_type": "code",
   "execution_count": 179,
   "metadata": {},
   "outputs": [],
   "source": [
    "# # Visualizing PCA Explained Variance\n",
    "# plt.figure(figsize=(10, 6))\n",
    "# plt.plot(np.cumsum(pca.explained_variance_ratio_), marker='o', linestyle='--')\n",
    "# plt.xlabel('Number of Components')\n",
    "# plt.ylabel('Cumulative Explained Variance')\n",
    "# plt.title('Explained Variance by PCA Components')\n",
    "# plt.show()"
   ]
  },
  {
   "cell_type": "markdown",
   "metadata": {},
   "source": [
    "Feature Engineering"
   ]
  },
  {
   "cell_type": "code",
   "execution_count": 180,
   "metadata": {},
   "outputs": [],
   "source": [
    "# # Feature engineering\n",
    "# poly = PolynomialFeatures(degree=2, include_bias=False)\n",
    "# X_poly = poly.fit_transform(X)\n",
    "# scaler = StandardScaler()\n",
    "# X_poly_scaled = scaler.fit_transform(X_poly)"
   ]
  },
  {
   "cell_type": "code",
   "execution_count": 181,
   "metadata": {},
   "outputs": [],
   "source": [
    "# # Split data into training and testing sets\n",
    "# X_train, X_test, y_train, y_test = train_test_split(X_poly_scaled, y, test_size = 0.3, random_state= 2001)\n",
    "\n",
    "# print(\"The dimension of X_train is {}\".format(X_train.shape))\n",
    "# print(\"The dimension of X_test is {}\".format(X_test.shape))"
   ]
  },
  {
   "cell_type": "code",
   "execution_count": 182,
   "metadata": {},
   "outputs": [],
   "source": [
    "# # Train models and evaluate\n",
    "# results = {}\n",
    "# for name, model in models.items():\n",
    "#     mse, r2 = evaluate_model(model, X_train, X_test, y_train, y_test)\n",
    "#     results[name] = {'MSE': mse, 'R2': r2}\n",
    "\n",
    "# # Display the results\n",
    "# for name, metrics in results.items():\n",
    "#     print(f\"Model: {name}\")\n",
    "#     print(f\"Mean Squared Error: {metrics['MSE']:.4f}\")\n",
    "#     print(f\"R^2 Score: {metrics['R2']:.4f}\")\n",
    "#     print(\"-\" * 30)"
   ]
  },
  {
   "cell_type": "code",
   "execution_count": 183,
   "metadata": {},
   "outputs": [],
   "source": [
    "# # Identify the best model based on R^2 score\n",
    "# best_model_name = max(results, key=lambda x: results[x]['R2'])\n",
    "# best_model = models[best_model_name]\n",
    "\n",
    "# # Save the best model and preprocessing steps\n",
    "# joblib.dump(best_model, 'best_model.pkl')\n",
    "# joblib.dump(poly, 'poly_transformer.pkl')\n",
    "# joblib.dump(scaler, 'scaler.pkl')"
   ]
  },
  {
   "cell_type": "markdown",
   "metadata": {},
   "source": [
    "**Part 4**\n",
    "\n",
    "Get the test sample for prediction and submit your results on Kaggle to get your Kaggle score screenshot. Show the screenshot in the PDF file."
   ]
  },
  {
   "cell_type": "code",
   "execution_count": 184,
   "metadata": {},
   "outputs": [
    {
     "data": {
      "text/html": [
       "<div>\n",
       "<style scoped>\n",
       "    .dataframe tbody tr th:only-of-type {\n",
       "        vertical-align: middle;\n",
       "    }\n",
       "\n",
       "    .dataframe tbody tr th {\n",
       "        vertical-align: top;\n",
       "    }\n",
       "\n",
       "    .dataframe thead th {\n",
       "        text-align: right;\n",
       "    }\n",
       "</style>\n",
       "<table border=\"1\" class=\"dataframe\">\n",
       "  <thead>\n",
       "    <tr style=\"text-align: right;\">\n",
       "      <th></th>\n",
       "      <th>X1</th>\n",
       "      <th>X2</th>\n",
       "      <th>X3</th>\n",
       "      <th>X4</th>\n",
       "      <th>X5</th>\n",
       "      <th>X6</th>\n",
       "      <th>X7</th>\n",
       "      <th>X8</th>\n",
       "      <th>X9</th>\n",
       "      <th>X10</th>\n",
       "      <th>...</th>\n",
       "      <th>X31</th>\n",
       "      <th>X32</th>\n",
       "      <th>X33</th>\n",
       "      <th>X34</th>\n",
       "      <th>X35</th>\n",
       "      <th>X36</th>\n",
       "      <th>X37</th>\n",
       "      <th>X38</th>\n",
       "      <th>X39</th>\n",
       "      <th>X40</th>\n",
       "    </tr>\n",
       "    <tr>\n",
       "      <th>ID</th>\n",
       "      <th></th>\n",
       "      <th></th>\n",
       "      <th></th>\n",
       "      <th></th>\n",
       "      <th></th>\n",
       "      <th></th>\n",
       "      <th></th>\n",
       "      <th></th>\n",
       "      <th></th>\n",
       "      <th></th>\n",
       "      <th></th>\n",
       "      <th></th>\n",
       "      <th></th>\n",
       "      <th></th>\n",
       "      <th></th>\n",
       "      <th></th>\n",
       "      <th></th>\n",
       "      <th></th>\n",
       "      <th></th>\n",
       "      <th></th>\n",
       "      <th></th>\n",
       "    </tr>\n",
       "  </thead>\n",
       "  <tbody>\n",
       "    <tr>\n",
       "      <th>1400</th>\n",
       "      <td>1.383526</td>\n",
       "      <td>-0.604793</td>\n",
       "      <td>1.229863</td>\n",
       "      <td>-0.001352</td>\n",
       "      <td>-1.091974</td>\n",
       "      <td>-0.183959</td>\n",
       "      <td>-0.382246</td>\n",
       "      <td>-0.585346</td>\n",
       "      <td>0.551234</td>\n",
       "      <td>-0.398677</td>\n",
       "      <td>...</td>\n",
       "      <td>-1.910952</td>\n",
       "      <td>1.880733</td>\n",
       "      <td>-1.707715</td>\n",
       "      <td>0.132710</td>\n",
       "      <td>-0.711017</td>\n",
       "      <td>-0.068873</td>\n",
       "      <td>-0.412101</td>\n",
       "      <td>0.718531</td>\n",
       "      <td>-0.046361</td>\n",
       "      <td>0.910999</td>\n",
       "    </tr>\n",
       "    <tr>\n",
       "      <th>1401</th>\n",
       "      <td>-1.805525</td>\n",
       "      <td>-1.209279</td>\n",
       "      <td>1.105605</td>\n",
       "      <td>-0.725072</td>\n",
       "      <td>1.406829</td>\n",
       "      <td>0.277594</td>\n",
       "      <td>0.351573</td>\n",
       "      <td>0.301992</td>\n",
       "      <td>-0.895749</td>\n",
       "      <td>-1.252861</td>\n",
       "      <td>...</td>\n",
       "      <td>-0.187775</td>\n",
       "      <td>0.321442</td>\n",
       "      <td>0.608835</td>\n",
       "      <td>0.133486</td>\n",
       "      <td>0.860403</td>\n",
       "      <td>0.545383</td>\n",
       "      <td>-0.469797</td>\n",
       "      <td>2.558656</td>\n",
       "      <td>-0.042992</td>\n",
       "      <td>0.299610</td>\n",
       "    </tr>\n",
       "    <tr>\n",
       "      <th>1402</th>\n",
       "      <td>-1.283231</td>\n",
       "      <td>0.378460</td>\n",
       "      <td>-1.042752</td>\n",
       "      <td>-0.392231</td>\n",
       "      <td>-0.152843</td>\n",
       "      <td>-0.150497</td>\n",
       "      <td>0.323036</td>\n",
       "      <td>-0.334631</td>\n",
       "      <td>-0.915000</td>\n",
       "      <td>-0.462906</td>\n",
       "      <td>...</td>\n",
       "      <td>0.063054</td>\n",
       "      <td>-0.673070</td>\n",
       "      <td>-0.165475</td>\n",
       "      <td>-0.925128</td>\n",
       "      <td>0.435305</td>\n",
       "      <td>-0.069939</td>\n",
       "      <td>-1.830001</td>\n",
       "      <td>0.654577</td>\n",
       "      <td>-0.586005</td>\n",
       "      <td>2.719760</td>\n",
       "    </tr>\n",
       "    <tr>\n",
       "      <th>1403</th>\n",
       "      <td>-1.429619</td>\n",
       "      <td>-1.219039</td>\n",
       "      <td>0.271909</td>\n",
       "      <td>-1.200966</td>\n",
       "      <td>-1.862797</td>\n",
       "      <td>-0.976227</td>\n",
       "      <td>0.502075</td>\n",
       "      <td>0.371877</td>\n",
       "      <td>-0.909261</td>\n",
       "      <td>0.452577</td>\n",
       "      <td>...</td>\n",
       "      <td>1.948860</td>\n",
       "      <td>-0.133037</td>\n",
       "      <td>0.192492</td>\n",
       "      <td>-0.809552</td>\n",
       "      <td>-0.847134</td>\n",
       "      <td>-0.449216</td>\n",
       "      <td>0.367976</td>\n",
       "      <td>-0.584823</td>\n",
       "      <td>-0.938930</td>\n",
       "      <td>0.800756</td>\n",
       "    </tr>\n",
       "    <tr>\n",
       "      <th>1404</th>\n",
       "      <td>1.050303</td>\n",
       "      <td>-0.287341</td>\n",
       "      <td>1.076935</td>\n",
       "      <td>-1.607133</td>\n",
       "      <td>2.728414</td>\n",
       "      <td>0.295277</td>\n",
       "      <td>-2.175289</td>\n",
       "      <td>-1.336138</td>\n",
       "      <td>-0.652193</td>\n",
       "      <td>-0.685130</td>\n",
       "      <td>...</td>\n",
       "      <td>1.204753</td>\n",
       "      <td>1.024312</td>\n",
       "      <td>-0.388220</td>\n",
       "      <td>0.480520</td>\n",
       "      <td>-2.318158</td>\n",
       "      <td>0.096818</td>\n",
       "      <td>-2.005192</td>\n",
       "      <td>-0.543147</td>\n",
       "      <td>0.427429</td>\n",
       "      <td>1.666733</td>\n",
       "    </tr>\n",
       "  </tbody>\n",
       "</table>\n",
       "<p>5 rows × 40 columns</p>\n",
       "</div>"
      ],
      "text/plain": [
       "            X1        X2        X3        X4        X5        X6        X7  \\\n",
       "ID                                                                           \n",
       "1400  1.383526 -0.604793  1.229863 -0.001352 -1.091974 -0.183959 -0.382246   \n",
       "1401 -1.805525 -1.209279  1.105605 -0.725072  1.406829  0.277594  0.351573   \n",
       "1402 -1.283231  0.378460 -1.042752 -0.392231 -0.152843 -0.150497  0.323036   \n",
       "1403 -1.429619 -1.219039  0.271909 -1.200966 -1.862797 -0.976227  0.502075   \n",
       "1404  1.050303 -0.287341  1.076935 -1.607133  2.728414  0.295277 -2.175289   \n",
       "\n",
       "            X8        X9       X10  ...       X31       X32       X33  \\\n",
       "ID                                  ...                                 \n",
       "1400 -0.585346  0.551234 -0.398677  ... -1.910952  1.880733 -1.707715   \n",
       "1401  0.301992 -0.895749 -1.252861  ... -0.187775  0.321442  0.608835   \n",
       "1402 -0.334631 -0.915000 -0.462906  ...  0.063054 -0.673070 -0.165475   \n",
       "1403  0.371877 -0.909261  0.452577  ...  1.948860 -0.133037  0.192492   \n",
       "1404 -1.336138 -0.652193 -0.685130  ...  1.204753  1.024312 -0.388220   \n",
       "\n",
       "           X34       X35       X36       X37       X38       X39       X40  \n",
       "ID                                                                          \n",
       "1400  0.132710 -0.711017 -0.068873 -0.412101  0.718531 -0.046361  0.910999  \n",
       "1401  0.133486  0.860403  0.545383 -0.469797  2.558656 -0.042992  0.299610  \n",
       "1402 -0.925128  0.435305 -0.069939 -1.830001  0.654577 -0.586005  2.719760  \n",
       "1403 -0.809552 -0.847134 -0.449216  0.367976 -0.584823 -0.938930  0.800756  \n",
       "1404  0.480520 -2.318158  0.096818 -2.005192 -0.543147  0.427429  1.666733  \n",
       "\n",
       "[5 rows x 40 columns]"
      ]
     },
     "execution_count": 184,
     "metadata": {},
     "output_type": "execute_result"
    }
   ],
   "source": [
    "df_test = pd.read_csv(url_test, index_col=0)\n",
    "\n",
    "df_test.head()"
   ]
  },
  {
   "cell_type": "markdown",
   "metadata": {},
   "source": [
    "Preprocess new data"
   ]
  },
  {
   "cell_type": "code",
   "execution_count": 185,
   "metadata": {},
   "outputs": [],
   "source": [
    "# # Preprocess new data\n",
    "# X_new = df_test\n",
    "# X_new_poly = poly.transform(X_new)\n",
    "# X_new_scaled = scaler.transform(X_new_poly)"
   ]
  },
  {
   "cell_type": "code",
   "execution_count": 186,
   "metadata": {},
   "outputs": [],
   "source": [
    "# # Load the best model\n",
    "# best_model = joblib.load('best_model.pkl')"
   ]
  },
  {
   "cell_type": "code",
   "execution_count": 187,
   "metadata": {},
   "outputs": [],
   "source": [
    "# # Make predictions\n",
    "# predictions = best_model.predict(X_new_scaled)"
   ]
  },
  {
   "cell_type": "code",
   "execution_count": 188,
   "metadata": {},
   "outputs": [],
   "source": [
    "# predictions_df = pd.DataFrame(predictions, columns=['Predictions']).values"
   ]
  },
  {
   "cell_type": "code",
   "execution_count": 189,
   "metadata": {},
   "outputs": [],
   "source": [
    "# df_submission = pd.read_csv(url_submission, index_col=0)\n",
    "\n",
    "# df_submission[\"Y\"] = predictions_df\n",
    "\n",
    "# df_submission.head(5)"
   ]
  },
  {
   "cell_type": "code",
   "execution_count": 190,
   "metadata": {},
   "outputs": [],
   "source": [
    "# df_submission.to_csv('submission.csv', index=True)\n",
    "# print(\"Predictions have been saved to 'submission.csv'.\")"
   ]
  }
 ],
 "metadata": {
  "kernelspec": {
   "display_name": "Python 3",
   "language": "python",
   "name": "python3"
  },
  "language_info": {
   "codemirror_mode": {
    "name": "ipython",
    "version": 3
   },
   "file_extension": ".py",
   "mimetype": "text/x-python",
   "name": "python",
   "nbconvert_exporter": "python",
   "pygments_lexer": "ipython3",
   "version": "3.9.10"
  }
 },
 "nbformat": 4,
 "nbformat_minor": 2
}
